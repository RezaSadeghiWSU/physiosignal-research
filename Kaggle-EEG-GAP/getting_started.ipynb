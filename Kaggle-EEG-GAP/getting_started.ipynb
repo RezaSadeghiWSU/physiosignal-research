{
 "cells": [
  {
   "cell_type": "markdown",
   "metadata": {},
   "source": [
    "# Getting started\n",
    "\n",
    "This script will explore [Elena Cuoco's script](https://www.kaggle.com/elenacuoco/grasp-and-lift-eeg-detection/simple-grasp-with-sklearn) in an effort to understand what is going on."
   ]
  },
  {
   "cell_type": "code",
   "execution_count": 1,
   "metadata": {
    "collapsed": false
   },
   "outputs": [],
   "source": [
    "# contains important preprocessing tools to read in our data\n",
    "from tools import *"
   ]
  },
  {
   "cell_type": "markdown",
   "metadata": {
    "collapsed": true
   },
   "source": [
    "### Simple Logistic Regression"
   ]
  },
  {
   "cell_type": "code",
   "execution_count": null,
   "metadata": {
    "collapsed": false
   },
   "outputs": [],
   "source": [
    "# read in all the data\n",
    "\n",
    "all_data = []\n",
    "all_labels = []\n",
    "\n",
    "for subject in range(1,13):\n",
    "    for series in range(1,9):\n",
    "        data, labels = prepare_data_train(subject, series)\n",
    "        all_data.append(data)\n",
    "        all_labels.append(labels)        "
   ]
  },
  {
   "cell_type": "code",
   "execution_count": null,
   "metadata": {
    "collapsed": true
   },
   "outputs": [],
   "source": [
    "import numpy as np\n",
    "import pandas as pd"
   ]
  },
  {
   "cell_type": "code",
   "execution_count": null,
   "metadata": {
    "collapsed": false
   },
   "outputs": [],
   "source": [
    "# convert the data and labels into pandas data frames.\n",
    "\n",
    "X = pd.concat(all_data)\n",
    "Y = pd.concat(all_labels)\n",
    "\n",
    "# transform the training data in the numpy array\n",
    "X_train = np.asarray(X.astype(float))\n",
    "y = np.asarray(Y.astype(float))\n",
    "\n"
   ]
  },
  {
   "cell_type": "code",
   "execution_count": null,
   "metadata": {
    "collapsed": false
   },
   "outputs": [],
   "source": [
    "# read in the test data\n",
    "test_data = [] \n",
    "idx = [] # holds the ids of the participants\n",
    "\n",
    "for subject in range(1,13):\n",
    "    for series in range(9,11):\n",
    "        data = prepare_data_test(subject, series)\n",
    "        test_data.append(data)\n",
    "        idx.append( np.array( data['id'] ) )\n",
    "\n",
    "X_test = pd.concat(test_data)\n",
    "X_test = X_test.drop(['id'], axis=1) # remove ids\n",
    "X_test = np.asarray( X_test.astype(float) )\n",
    "\n",
    "ids_tot = np.concatenate(idx) # contains all the ids"
   ]
  },
  {
   "cell_type": "code",
   "execution_count": null,
   "metadata": {
    "collapsed": true
   },
   "outputs": [],
   "source": []
  },
  {
   "cell_type": "code",
   "execution_count": null,
   "metadata": {
    "collapsed": false
   },
   "outputs": [],
   "source": [
    "# classifier training\n",
    "\n",
    "from sklearn.linear_model import LogisticRegression\n",
    "\n",
    "lr = LogisticRegression()\n",
    "\n",
    "# removes the mean and scales the variance to 1\n",
    "X_train = data_preprocess_train(X_train)\n",
    "\n",
    "# for i in range(6):\n",
    "#     y_train = y[:,i] \n",
    "    \n"
   ]
  },
  {
   "cell_type": "code",
   "execution_count": null,
   "metadata": {
    "collapsed": true
   },
   "outputs": [],
   "source": []
  },
  {
   "cell_type": "code",
   "execution_count": null,
   "metadata": {
    "collapsed": true
   },
   "outputs": [],
   "source": []
  },
  {
   "cell_type": "code",
   "execution_count": null,
   "metadata": {
    "collapsed": true
   },
   "outputs": [],
   "source": [
    "\n",
    "predictions = np.empty( ( X_test.shape[0], 6 )) "
   ]
  }
 ],
 "metadata": {
  "kernelspec": {
   "display_name": "Python 2",
   "language": "python",
   "name": "python2"
  },
  "language_info": {
   "codemirror_mode": {
    "name": "ipython",
    "version": 2
   },
   "file_extension": ".py",
   "mimetype": "text/x-python",
   "name": "python",
   "nbconvert_exporter": "python",
   "pygments_lexer": "ipython2",
   "version": "2.7.6"
  }
 },
 "nbformat": 4,
 "nbformat_minor": 0
}
