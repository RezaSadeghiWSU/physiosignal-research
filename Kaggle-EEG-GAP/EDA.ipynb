{
 "cells": [
  {
   "cell_type": "markdown",
   "metadata": {},
   "source": [
    "# Exploring the Grasp-and-List EEG Detection Dataset\n",
    "\n",
    "A [Kaggle Challenge](https://www.kaggle.com/c/grasp-and-lift-eeg-detection) has provided us with ample of EEG data on subjects conducting certain trials. This notebook explores some this data in an effort to let us get to know it better.\n",
    "\n",
    "Each subject performs the following events in one trial:\n",
    "\n",
    "1. HandStart\n",
    "2. FirstDigitTouch\n",
    "3. BothStartLoadPhase\n",
    "4. LiftOff\n",
    "5. Replace\n",
    "6. BothReleased\n",
    "\n",
    "A video of the trial is shown:"
   ]
  },
  {
   "cell_type": "code",
   "execution_count": 5,
   "metadata": {
    "collapsed": false
   },
   "outputs": [
    {
     "data": {
      "text/html": [
       "\n",
       "        <iframe\n",
       "            width=\"400\"\n",
       "            height=\"300\"\n",
       "            src=\"https://www.youtube.com/embed/y3_Izuop2gY\"\n",
       "            frameborder=\"0\"\n",
       "            allowfullscreen\n",
       "        ></iframe>\n",
       "        "
      ],
      "text/plain": [
       "<IPython.lib.display.YouTubeVideo at 0x10c3a6450>"
      ]
     },
     "execution_count": 5,
     "metadata": {},
     "output_type": "execute_result"
    }
   ],
   "source": [
    "YouTubeVideo('y3_Izuop2gY')"
   ]
  },
  {
   "cell_type": "markdown",
   "metadata": {},
   "source": [
    "According to the [data specification page](https://www.kaggle.com/c/grasp-and-lift-eeg-detection/data), there are 12 subjects, 10 series of trials for each subject and 30 trials within each series. \n",
    "\n",
    "The data has been separated to put series 1-8 in the `training set` and the 9th and 10th series into the `test set` which will need to be predicted.\n",
    "\n",
    "The `training set` also has events associated for each training entry, numbered from 1-6 according the above list. In the test set, these are not provided and we must build a model to predict which event occured within 150ms/ 75 frames. \n",
    "\n",
    "The researchers also provide a spatial relationship between the electrode locations which might be helpful at some point:\n",
    "\n",
    "![https://kaggle2.blob.core.windows.net/competitions/kaggle/4477/media/EEG_Electrode_Numbering.jpg](https://kaggle2.blob.core.windows.net/competitions/kaggle/4477/media/EEG_Electrode_Numbering.jpg)"
   ]
  },
  {
   "cell_type": "markdown",
   "metadata": {},
   "source": [
    "# Exploratory Data Analysis\n",
    "\n",
    "Let's jump right in!"
   ]
  },
  {
   "cell_type": "code",
   "execution_count": 16,
   "metadata": {
    "collapsed": false
   },
   "outputs": [
    {
     "name": "stdout",
     "output_type": "stream",
     "text": [
      "Populating the interactive namespace from numpy and matplotlib\n"
     ]
    }
   ],
   "source": [
    "%pylab inline\n",
    "import pandas as pd"
   ]
  },
  {
   "cell_type": "code",
   "execution_count": 9,
   "metadata": {
    "collapsed": true
   },
   "outputs": [],
   "source": [
    "data = pd.read_csv('./data/train/subj10_series1_data.csv')"
   ]
  },
  {
   "cell_type": "code",
   "execution_count": 10,
   "metadata": {
    "collapsed": false
   },
   "outputs": [
    {
     "data": {
      "text/html": [
       "<div style=\"max-height:1000px;max-width:1500px;overflow:auto;\">\n",
       "<table border=\"1\" class=\"dataframe\">\n",
       "  <thead>\n",
       "    <tr style=\"text-align: right;\">\n",
       "      <th></th>\n",
       "      <th>id</th>\n",
       "      <th>Fp1</th>\n",
       "      <th>Fp2</th>\n",
       "      <th>F7</th>\n",
       "      <th>F3</th>\n",
       "      <th>Fz</th>\n",
       "      <th>F4</th>\n",
       "      <th>F8</th>\n",
       "      <th>FC5</th>\n",
       "      <th>FC1</th>\n",
       "      <th>...</th>\n",
       "      <th>P7</th>\n",
       "      <th>P3</th>\n",
       "      <th>Pz</th>\n",
       "      <th>P4</th>\n",
       "      <th>P8</th>\n",
       "      <th>PO9</th>\n",
       "      <th>O1</th>\n",
       "      <th>Oz</th>\n",
       "      <th>O2</th>\n",
       "      <th>PO10</th>\n",
       "    </tr>\n",
       "  </thead>\n",
       "  <tbody>\n",
       "    <tr>\n",
       "      <th>0</th>\n",
       "      <td>subj10_series1_0</td>\n",
       "      <td>-304</td>\n",
       "      <td>-156</td>\n",
       "      <td>-411</td>\n",
       "      <td>-640</td>\n",
       "      <td>-505</td>\n",
       "      <td>-603</td>\n",
       "      <td>-451</td>\n",
       "      <td>104</td>\n",
       "      <td>-344</td>\n",
       "      <td>...</td>\n",
       "      <td>-197</td>\n",
       "      <td>-597</td>\n",
       "      <td>-242</td>\n",
       "      <td>-472</td>\n",
       "      <td>-56</td>\n",
       "      <td>-338</td>\n",
       "      <td>-335</td>\n",
       "      <td>-518</td>\n",
       "      <td>-371</td>\n",
       "      <td>-177</td>\n",
       "    </tr>\n",
       "    <tr>\n",
       "      <th>1</th>\n",
       "      <td>subj10_series1_1</td>\n",
       "      <td>-300</td>\n",
       "      <td>-151</td>\n",
       "      <td>-376</td>\n",
       "      <td>-670</td>\n",
       "      <td>-509</td>\n",
       "      <td>-622</td>\n",
       "      <td>-422</td>\n",
       "      <td>60</td>\n",
       "      <td>-374</td>\n",
       "      <td>...</td>\n",
       "      <td>-203</td>\n",
       "      <td>-611</td>\n",
       "      <td>-224</td>\n",
       "      <td>-471</td>\n",
       "      <td>-53</td>\n",
       "      <td>-310</td>\n",
       "      <td>-326</td>\n",
       "      <td>-511</td>\n",
       "      <td>-396</td>\n",
       "      <td>-189</td>\n",
       "    </tr>\n",
       "    <tr>\n",
       "      <th>2</th>\n",
       "      <td>subj10_series1_2</td>\n",
       "      <td>-286</td>\n",
       "      <td>-227</td>\n",
       "      <td>-400</td>\n",
       "      <td>-724</td>\n",
       "      <td>-525</td>\n",
       "      <td>-631</td>\n",
       "      <td>-469</td>\n",
       "      <td>70</td>\n",
       "      <td>-378</td>\n",
       "      <td>...</td>\n",
       "      <td>-176</td>\n",
       "      <td>-608</td>\n",
       "      <td>-234</td>\n",
       "      <td>-475</td>\n",
       "      <td>-78</td>\n",
       "      <td>-282</td>\n",
       "      <td>-289</td>\n",
       "      <td>-505</td>\n",
       "      <td>-424</td>\n",
       "      <td>-193</td>\n",
       "    </tr>\n",
       "    <tr>\n",
       "      <th>3</th>\n",
       "      <td>subj10_series1_3</td>\n",
       "      <td>-281</td>\n",
       "      <td>-272</td>\n",
       "      <td>-447</td>\n",
       "      <td>-702</td>\n",
       "      <td>-540</td>\n",
       "      <td>-640</td>\n",
       "      <td>-492</td>\n",
       "      <td>71</td>\n",
       "      <td>-386</td>\n",
       "      <td>...</td>\n",
       "      <td>-154</td>\n",
       "      <td>-605</td>\n",
       "      <td>-246</td>\n",
       "      <td>-488</td>\n",
       "      <td>-73</td>\n",
       "      <td>-304</td>\n",
       "      <td>-337</td>\n",
       "      <td>-539</td>\n",
       "      <td>-412</td>\n",
       "      <td>-192</td>\n",
       "    </tr>\n",
       "    <tr>\n",
       "      <th>4</th>\n",
       "      <td>subj10_series1_4</td>\n",
       "      <td>-294</td>\n",
       "      <td>-194</td>\n",
       "      <td>-432</td>\n",
       "      <td>-693</td>\n",
       "      <td>-503</td>\n",
       "      <td>-609</td>\n",
       "      <td>-500</td>\n",
       "      <td>109</td>\n",
       "      <td>-385</td>\n",
       "      <td>...</td>\n",
       "      <td>-146</td>\n",
       "      <td>-602</td>\n",
       "      <td>-226</td>\n",
       "      <td>-448</td>\n",
       "      <td>-25</td>\n",
       "      <td>-342</td>\n",
       "      <td>-333</td>\n",
       "      <td>-549</td>\n",
       "      <td>-400</td>\n",
       "      <td>-157</td>\n",
       "    </tr>\n",
       "  </tbody>\n",
       "</table>\n",
       "<p>5 rows × 33 columns</p>\n",
       "</div>"
      ],
      "text/plain": [
       "                 id  Fp1  Fp2   F7   F3   Fz   F4   F8  FC5  FC1  ...    P7  \\\n",
       "0  subj10_series1_0 -304 -156 -411 -640 -505 -603 -451  104 -344  ...  -197   \n",
       "1  subj10_series1_1 -300 -151 -376 -670 -509 -622 -422   60 -374  ...  -203   \n",
       "2  subj10_series1_2 -286 -227 -400 -724 -525 -631 -469   70 -378  ...  -176   \n",
       "3  subj10_series1_3 -281 -272 -447 -702 -540 -640 -492   71 -386  ...  -154   \n",
       "4  subj10_series1_4 -294 -194 -432 -693 -503 -609 -500  109 -385  ...  -146   \n",
       "\n",
       "    P3   Pz   P4  P8  PO9   O1   Oz   O2  PO10  \n",
       "0 -597 -242 -472 -56 -338 -335 -518 -371  -177  \n",
       "1 -611 -224 -471 -53 -310 -326 -511 -396  -189  \n",
       "2 -608 -234 -475 -78 -282 -289 -505 -424  -193  \n",
       "3 -605 -246 -488 -73 -304 -337 -539 -412  -192  \n",
       "4 -602 -226 -448 -25 -342 -333 -549 -400  -157  \n",
       "\n",
       "[5 rows x 33 columns]"
      ]
     },
     "execution_count": 10,
     "metadata": {},
     "output_type": "execute_result"
    }
   ],
   "source": [
    "data.head()"
   ]
  },
  {
   "cell_type": "markdown",
   "metadata": {},
   "source": [
    "33 columns is too many to plot, let us blindly select a few columns to plot."
   ]
  },
  {
   "cell_type": "code",
   "execution_count": 21,
   "metadata": {
    "collapsed": false
   },
   "outputs": [
    {
     "name": "stdout",
     "output_type": "stream",
     "text": [
      "ERROR! Session/line number was not unique in database. History logging moved to new session 1983\n"
     ]
    },
    {
     "data": {
      "text/plain": [
       "<matplotlib.axes.AxesSubplot at 0x10f7ab250>"
      ]
     },
     "execution_count": 21,
     "metadata": {},
     "output_type": "execute_result"
    },
    {
     "data": {
      "image/png": "[encoded data removed]",
      "text/plain": [
       "<matplotlib.figure.Figure at 0x1101299d0>"
      ]
     },
     "metadata": {},
     "output_type": "display_data"
    }
   ],
   "source": [
    "to_plot = data[['id', 'Fz', 'F8', 'Pz']]\n",
    "to_plot.plot()"
   ]
  },
  {
   "cell_type": "markdown",
   "metadata": {},
   "source": [
    "As we can see, the data is VERY noisy! We might need to extract only certain frequencies from this data using the Fast Fourier Transform.\n",
    "\n",
    "Below let's see what's in the other `csv` file."
   ]
  },
  {
   "cell_type": "code",
   "execution_count": 24,
   "metadata": {
    "collapsed": false
   },
   "outputs": [
    {
     "data": {
      "text/html": [
       "<div style=\"max-height:1000px;max-width:1500px;overflow:auto;\">\n",
       "<table border=\"1\" class=\"dataframe\">\n",
       "  <thead>\n",
       "    <tr style=\"text-align: right;\">\n",
       "      <th></th>\n",
       "      <th>id</th>\n",
       "      <th>HandStart</th>\n",
       "      <th>FirstDigitTouch</th>\n",
       "      <th>BothStartLoadPhase</th>\n",
       "      <th>LiftOff</th>\n",
       "      <th>Replace</th>\n",
       "      <th>BothReleased</th>\n",
       "    </tr>\n",
       "  </thead>\n",
       "  <tbody>\n",
       "    <tr>\n",
       "      <th>0</th>\n",
       "      <td>subj10_series1_0</td>\n",
       "      <td>0</td>\n",
       "      <td>0</td>\n",
       "      <td>0</td>\n",
       "      <td>0</td>\n",
       "      <td>0</td>\n",
       "      <td>0</td>\n",
       "    </tr>\n",
       "    <tr>\n",
       "      <th>1</th>\n",
       "      <td>subj10_series1_1</td>\n",
       "      <td>0</td>\n",
       "      <td>0</td>\n",
       "      <td>0</td>\n",
       "      <td>0</td>\n",
       "      <td>0</td>\n",
       "      <td>0</td>\n",
       "    </tr>\n",
       "    <tr>\n",
       "      <th>2</th>\n",
       "      <td>subj10_series1_2</td>\n",
       "      <td>0</td>\n",
       "      <td>0</td>\n",
       "      <td>0</td>\n",
       "      <td>0</td>\n",
       "      <td>0</td>\n",
       "      <td>0</td>\n",
       "    </tr>\n",
       "    <tr>\n",
       "      <th>3</th>\n",
       "      <td>subj10_series1_3</td>\n",
       "      <td>0</td>\n",
       "      <td>0</td>\n",
       "      <td>0</td>\n",
       "      <td>0</td>\n",
       "      <td>0</td>\n",
       "      <td>0</td>\n",
       "    </tr>\n",
       "    <tr>\n",
       "      <th>4</th>\n",
       "      <td>subj10_series1_4</td>\n",
       "      <td>0</td>\n",
       "      <td>0</td>\n",
       "      <td>0</td>\n",
       "      <td>0</td>\n",
       "      <td>0</td>\n",
       "      <td>0</td>\n",
       "    </tr>\n",
       "  </tbody>\n",
       "</table>\n",
       "</div>"
      ],
      "text/plain": [
       "                 id  HandStart  FirstDigitTouch  BothStartLoadPhase  LiftOff  \\\n",
       "0  subj10_series1_0          0                0                   0        0   \n",
       "1  subj10_series1_1          0                0                   0        0   \n",
       "2  subj10_series1_2          0                0                   0        0   \n",
       "3  subj10_series1_3          0                0                   0        0   \n",
       "4  subj10_series1_4          0                0                   0        0   \n",
       "\n",
       "   Replace  BothReleased  \n",
       "0        0             0  \n",
       "1        0             0  \n",
       "2        0             0  \n",
       "3        0             0  \n",
       "4        0             0  "
      ]
     },
     "execution_count": 24,
     "metadata": {},
     "output_type": "execute_result"
    }
   ],
   "source": [
    "events = pd.read_csv('./data/train/subj10_series1_events.csv')\n",
    "events.head()"
   ]
  },
  {
   "cell_type": "code",
   "execution_count": 56,
   "metadata": {
    "collapsed": false
   },
   "outputs": [
    {
     "data": {
      "text/html": [
       "<div style=\"max-height:1000px;max-width:1500px;overflow:auto;\">\n",
       "<table border=\"1\" class=\"dataframe\">\n",
       "  <thead>\n",
       "    <tr style=\"text-align: right;\">\n",
       "      <th></th>\n",
       "      <th>id</th>\n",
       "      <th>HandStart</th>\n",
       "      <th>FirstDigitTouch</th>\n",
       "      <th>BothStartLoadPhase</th>\n",
       "      <th>LiftOff</th>\n",
       "      <th>Replace</th>\n",
       "      <th>BothReleased</th>\n",
       "    </tr>\n",
       "  </thead>\n",
       "  <tbody>\n",
       "    <tr>\n",
       "      <th>3732</th>\n",
       "      <td>subj10_series1_3732</td>\n",
       "      <td>0</td>\n",
       "      <td>1</td>\n",
       "      <td>0</td>\n",
       "      <td>0</td>\n",
       "      <td>0</td>\n",
       "      <td>0</td>\n",
       "    </tr>\n",
       "    <tr>\n",
       "      <th>3733</th>\n",
       "      <td>subj10_series1_3733</td>\n",
       "      <td>0</td>\n",
       "      <td>1</td>\n",
       "      <td>0</td>\n",
       "      <td>0</td>\n",
       "      <td>0</td>\n",
       "      <td>0</td>\n",
       "    </tr>\n",
       "    <tr>\n",
       "      <th>3734</th>\n",
       "      <td>subj10_series1_3734</td>\n",
       "      <td>0</td>\n",
       "      <td>1</td>\n",
       "      <td>1</td>\n",
       "      <td>0</td>\n",
       "      <td>0</td>\n",
       "      <td>0</td>\n",
       "    </tr>\n",
       "    <tr>\n",
       "      <th>3735</th>\n",
       "      <td>subj10_series1_3735</td>\n",
       "      <td>0</td>\n",
       "      <td>1</td>\n",
       "      <td>1</td>\n",
       "      <td>0</td>\n",
       "      <td>0</td>\n",
       "      <td>0</td>\n",
       "    </tr>\n",
       "    <tr>\n",
       "      <th>3736</th>\n",
       "      <td>subj10_series1_3736</td>\n",
       "      <td>0</td>\n",
       "      <td>1</td>\n",
       "      <td>1</td>\n",
       "      <td>0</td>\n",
       "      <td>0</td>\n",
       "      <td>0</td>\n",
       "    </tr>\n",
       "  </tbody>\n",
       "</table>\n",
       "</div>"
      ],
      "text/plain": [
       "                       id  HandStart  FirstDigitTouch  BothStartLoadPhase  \\\n",
       "3732  subj10_series1_3732          0                1                   0   \n",
       "3733  subj10_series1_3733          0                1                   0   \n",
       "3734  subj10_series1_3734          0                1                   1   \n",
       "3735  subj10_series1_3735          0                1                   1   \n",
       "3736  subj10_series1_3736          0                1                   1   \n",
       "\n",
       "      LiftOff  Replace  BothReleased  \n",
       "3732        0        0             0  \n",
       "3733        0        0             0  \n",
       "3734        0        0             0  \n",
       "3735        0        0             0  \n",
       "3736        0        0             0  "
      ]
     },
     "execution_count": 56,
     "metadata": {},
     "output_type": "execute_result"
    }
   ],
   "source": [
    "events[events['FirstDigitTouch']>0].head()"
   ]
  },
  {
   "cell_type": "markdown",
   "metadata": {},
   "source": [
    "It looks like it contains the events corresponding to the data in the previous file. Great."
   ]
  },
  {
   "cell_type": "markdown",
   "metadata": {},
   "source": [
    "## Convinience Functions and Processing\n",
    "\n",
    "So we can see that the data is distributed among two files, [@alexandrebarachant](http://www.kaggle.com/alexandrebarachant) has created and posted from great starting scripts for us to use.\n",
    "\n",
    "A python package called MNE will help us in our processing."
   ]
  },
  {
   "cell_type": "code",
   "execution_count": null,
   "metadata": {
    "collapsed": true
   },
   "outputs": [],
   "source": []
  }
 ],
 "metadata": {
  "kernelspec": {
   "display_name": "Python 2",
   "language": "python",
   "name": "python2"
  },
  "language_info": {
   "codemirror_mode": {
    "name": "ipython",
    "version": 2
   },
   "file_extension": ".py",
   "mimetype": "text/x-python",
   "name": "python",
   "nbconvert_exporter": "python",
   "pygments_lexer": "ipython2",
   "version": "2.7.6"
  }
 },
 "nbformat": 4,
 "nbformat_minor": 0
}
